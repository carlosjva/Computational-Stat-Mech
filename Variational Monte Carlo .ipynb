{
 "cells": [
  {
   "cell_type": "markdown",
   "metadata": {},
   "source": [
    "### Variational Monte Carlo Methods"
   ]
  },
  {
   "cell_type": "code",
   "execution_count": 6,
   "metadata": {},
   "outputs": [],
   "source": [
    "import numpy as np\n",
    "import random, math\n",
    "import pylab"
   ]
  },
  {
   "cell_type": "code",
   "execution_count": 5,
   "metadata": {},
   "outputs": [],
   "source": [
    "def gauss(sigma):\n",
    "        phi=random.uniform(0, 2*math.pi)\n",
    "        Upsilon=-math.log(random.uniform(0, 1))\n",
    "        r=sigma*math.sqrt(2*Upsilon)\n",
    "        x=r*math.cos(phi)\n",
    "        y=r*math.sin(phi)\n",
    "        return math.sqrt(x**2+y**2)"
   ]
  },
  {
   "cell_type": "markdown",
   "metadata": {},
   "source": [
    "### 1. The harmonic Oscillator in 1D."
   ]
  },
  {
   "cell_type": "markdown",
   "metadata": {},
   "source": [
    "#### Hamiltonian: $$\\hat{H}=-\\frac{\\hbar^2}{2m}+\\frac{1}{2}kx^2$$\n",
    "$$m=\\hbar=k=1$$ \n",
    "#### Trial wave function: $$\\Psi_T(x)=\\frac{\\sqrt{\\alpha}}{\\pi^{1/4}}e^{-x^2\\alpha^2/2}$$\n",
    "#### Local Energy:$$\\hat{E_L(x)}=\\frac{1}{\\Psi_T(x)}\\hat{H}\\Psi_T(x)=\\alpha^2+x^2(\\frac{1}{2}-\\alpha^4)$$\n",
    "$$<\\hat{E_L(x)}>=\\int_{-\\infty}^{\\infty}|\\Psi_T(x)|^2(\\alpha^2+x^2(\\frac{1}{2}-\\alpha^4))$$"
   ]
  },
  {
   "cell_type": "code",
   "execution_count": 42,
   "metadata": {},
   "outputs": [
    {
     "data": {
      "image/png": "[encoded data removed]",
      "text/plain": [
       "<Figure size 432x288 with 1 Axes>"
      ]
     },
     "metadata": {},
     "output_type": "display_data"
    }
   ],
   "source": [
    "N=10000 # No. of Monte Carlo samples\n",
    "\n",
    "def MC(alpha):\n",
    "    E, E2=0., 0.\n",
    "    for i in range(10000):\n",
    "        x=gauss(-1)/math.sqrt(math.pi)/alpha\n",
    "        E_L=alpha**2+x**2*(0.5-alpha**4)\n",
    "        E+=E_L\n",
    "        E2+=E_L**2\n",
    "    return [alpha, E/N, math.sqrt((E2/N-(E/N)**2))/N]\n",
    "\n",
    "parameters=np.arange(0.2, 1.6, 0.01)\n",
    "Mean_Energy=[]\n",
    "for alpha in parameters:\n",
    "    X=MC(alpha)\n",
    "    #print(X)\n",
    "    Mean_Energy+=[X[1], ]\n",
    "\n",
    "pylab.plot(parameters, Mean_Energy)\n",
    "pylab.xlim(0.2, 1.5)\n",
    "pylab.ylim(0, 5)\n",
    "pylab.xlabel(\"alpha\")\n",
    "pylab.ylabel(\"E0\")\n",
    "pylab.show()\n"
   ]
  },
  {
   "cell_type": "markdown",
   "metadata": {},
   "source": [
    "### 2. Ground State Energy of the dirac delta function potential"
   ]
  },
  {
   "cell_type": "markdown",
   "metadata": {},
   "source": [
    "#### Hamiltonian: $$\\hat{H}=-\\frac{\\hbar^2}{2m}-k\\delta(x)$$\n",
    "$$m=\\hbar=k=1$$ \n",
    "#### Trial wave function: $$\\Psi_T(x)=\\frac{\\sqrt{\\alpha}}{\\pi^{1/4}}e^{-x^2\\alpha^2/2}$$\n",
    "#### Local Energy:$$\\hat{E_L(x)}=\\frac{1}{\\Psi_T(x)}\\hat{H}\\Psi_T(x)=\\alpha^2-x^2\\alpha^4-1$$\n",
    "$$<\\hat{E_L(x)}>=\\int_{-\\infty}^{\\infty}|\\Psi_T(x)|^2(\\alpha^2-x^2\\alpha^4-1)$$"
   ]
  },
  {
   "cell_type": "code",
   "execution_count": 45,
   "metadata": {},
   "outputs": [
    {
     "data": {
      "image/png": "[encoded data removed]",
      "text/plain": [
       "<Figure size 432x288 with 1 Axes>"
      ]
     },
     "metadata": {},
     "output_type": "display_data"
    }
   ],
   "source": [
    "N=10000 # No. of Monte Carlo samples\n",
    "\n",
    "def MC(alpha):\n",
    "    E, E2=0., 0.\n",
    "    for i in range(10000):\n",
    "        x=gauss(-1)/math.sqrt(math.pi)/alpha\n",
    "        E_L=alpha**2-x**2*alpha**4-1\n",
    "        E+=E_L\n",
    "        E2+=E_L**2\n",
    "    return [alpha, E/N, math.sqrt((E2/N-(E/N)**2))/N]\n",
    "\n",
    "parameters=np.arange(-0.5, 0.5, 0.01)\n",
    "Mean_Energy=[]\n",
    "for alpha in parameters:\n",
    "    X=MC(alpha)\n",
    "    #print(X)\n",
    "    Mean_Energy+=[X[1], ]\n",
    "\n",
    "pylab.plot(parameters, Mean_Energy)\n",
    "pylab.xlabel(\"alpha\")\n",
    "pylab.ylabel(\"E0\")\n",
    "pylab.show()"
   ]
  },
  {
   "cell_type": "code",
   "execution_count": null,
   "metadata": {},
   "outputs": [],
   "source": []
  }
 ],
 "metadata": {
  "kernelspec": {
   "display_name": "Python 3",
   "language": "python",
   "name": "python3"
  },
  "language_info": {
   "codemirror_mode": {
    "name": "ipython",
    "version": 3
   },
   "file_extension": ".py",
   "mimetype": "text/x-python",
   "name": "python",
   "nbconvert_exporter": "python",
   "pygments_lexer": "ipython3",
   "version": "3.6.5"
  }
 },
 "nbformat": 4,
 "nbformat_minor": 2
}
